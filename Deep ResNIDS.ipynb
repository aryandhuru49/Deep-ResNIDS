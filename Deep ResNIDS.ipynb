{
 "cells": [
  {
   "cell_type": "code",
   "execution_count": null,
   "id": "9f939f65-c1ab-4a7e-a37a-7fdf49cd4528",
   "metadata": {},
   "outputs": [],
   "source": [
    "import pandas as pd\n",
    "import numpy as np\n",
    "from sklearn.model_selection import train_test_split\n",
    "from sklearn.preprocessing import LabelEncoder, StandardScaler\n",
    "from sklearn.linear_model import LogisticRegression\n",
    "from sklearn.metrics import accuracy_score, classification_report, roc_auc_score\n",
    "from tensorflow.keras.models import Model\n",
    "from tensorflow.keras.layers import Input, Dense\n",
    "from tensorflow.keras.callbacks import EarlyStopping"
   ]
  },
  {
   "cell_type": "code",
   "execution_count": null,
   "id": "89d77c94-d0b2-4417-9145-292894a7135f",
   "metadata": {},
   "outputs": [],
   "source": [
    "data_file = 'add_your_dataset_here' \n",
    "data = pd.read_csv(data_file)"
   ]
  },
  {
   "cell_type": "code",
   "execution_count": null,
   "id": "cd030b35-9332-4e70-8bdc-7816903d87c3",
   "metadata": {},
   "outputs": [],
   "source": [
    "data.info()"
   ]
  },
  {
   "cell_type": "code",
   "execution_count": null,
   "id": "d392e576-92e7-4e2a-9ac2-37747a6114c1",
   "metadata": {},
   "outputs": [],
   "source": [
    "print(\"\\nShape of the dataset:\")\n",
    "print(f\"Rows: {data.shape[0]}, Columns: {data.shape[1]}\")"
   ]
  },
  {
   "cell_type": "code",
   "execution_count": null,
   "id": "a873659b-808b-40f1-9f40-14d6d375e821",
   "metadata": {},
   "outputs": [],
   "source": [
    "#print(data.describe())"
   ]
  },
  {
   "cell_type": "code",
   "execution_count": null,
   "id": "e74d3d49-5c06-472a-affe-fc8eb547b135",
   "metadata": {},
   "outputs": [],
   "source": [
    "X = data.iloc[:, :-1].values  \n",
    "y = data.iloc[:, -1].values"
   ]
  },
  {
   "cell_type": "code",
   "execution_count": null,
   "id": "c2c3aef4-119b-4fa2-9c8c-6c9ec01f5f19",
   "metadata": {},
   "outputs": [],
   "source": [
    "label_encoder = LabelEncoder()\n",
    "y = label_encoder.fit_transform(y)"
   ]
  },
  {
   "cell_type": "code",
   "execution_count": null,
   "id": "bbf0ccf5-8a6b-4c09-b939-28dcf17dfd8c",
   "metadata": {},
   "outputs": [],
   "source": [
    "print(data['Label_binary'].value_counts())"
   ]
  },
  {
   "cell_type": "code",
   "execution_count": null,
   "id": "db2c03cb-3010-4644-844d-c0bc3e6df2fc",
   "metadata": {},
   "outputs": [],
   "source": [
    "# print(label_encoder.classes_)"
   ]
  },
  {
   "cell_type": "code",
   "execution_count": null,
   "id": "70972b73-ecdd-4e29-94a4-5cf003f39208",
   "metadata": {},
   "outputs": [],
   "source": [
    "scaler = StandardScaler()\n",
    "X = scaler.fit_transform(X)"
   ]
  },
  {
   "cell_type": "code",
   "execution_count": null,
   "id": "627cd3e0-4cac-4839-8314-dc24f52c916f",
   "metadata": {},
   "outputs": [],
   "source": [
    "X_train, X_test, y_train, y_test = train_test_split(X, y, test_size=0.3, random_state=42)"
   ]
  },
  {
   "cell_type": "code",
   "execution_count": null,
   "id": "151d8b8f-89b6-40ad-a959-3844de356146",
   "metadata": {},
   "outputs": [],
   "source": [
    "logistic_model = LogisticRegression(random_state=42, max_iter=1000)\n",
    "logistic_model.fit(X_train, y_train);"
   ]
  },
  {
   "cell_type": "code",
   "execution_count": null,
   "id": "ce318496-ea43-456a-a3cf-da470d233c06",
   "metadata": {},
   "outputs": [],
   "source": [
    "y_pred = logistic_model.predict(X_test)\n",
    "accuracy = accuracy_score(y_test, y_pred)\n",
    "print(f\"Test Accuracy: {accuracy * 100:.2f}%\")"
   ]
  },
  {
   "cell_type": "code",
   "execution_count": null,
   "id": "1e8d5a07-6e35-4fc3-a3e1-3f5952249fa2",
   "metadata": {},
   "outputs": [],
   "source": [
    "benign_data = data[data['Label_binary'] == 'Benign']\n",
    "X_benign = benign_data.iloc[:, :-1].values "
   ]
  },
  {
   "cell_type": "code",
   "execution_count": null,
   "id": "8e588f35-2719-4fd5-8bd5-c7447c1f509b",
   "metadata": {},
   "outputs": [],
   "source": [
    "data.head()"
   ]
  },
  {
   "cell_type": "code",
   "execution_count": null,
   "id": "a8ec755b-8f18-4427-a3cb-1dafac57f71f",
   "metadata": {},
   "outputs": [],
   "source": [
    "print(data['Label_binary'].value_counts())"
   ]
  },
  {
   "cell_type": "code",
   "execution_count": null,
   "id": "d5158cab-23a2-4f6a-9f93-57d82d9f02df",
   "metadata": {},
   "outputs": [],
   "source": [
    "X_benign_scaled = scaler.fit_transform(X_benign)"
   ]
  },
  {
   "cell_type": "code",
   "execution_count": null,
   "id": "f88decc7-4a13-48a5-b7ea-f8cb584d4ae3",
   "metadata": {},
   "outputs": [],
   "source": [
    "input_dim = X_benign_scaled.shape[1]\n",
    "input_layer = Input(shape=(input_dim,))\n",
    "encoder = Dense(64, activation='relu')(input_layer)\n",
    "encoder = Dense(32, activation='relu')(encoder)\n",
    "latent_space = Dense(16, activation='relu')(encoder)\n",
    "decoder = Dense(32, activation='relu')(latent_space)\n",
    "decoder = Dense(64, activation='relu')(decoder)\n",
    "output_layer = Dense(input_dim, activation='sigmoid')(decoder)\n",
    "\n"
   ]
  },
  {
   "cell_type": "code",
   "execution_count": null,
   "id": "87c8b528-cbe0-4221-a7a2-28a605edb661",
   "metadata": {},
   "outputs": [],
   "source": [
    "autoencoder = Model(inputs=input_layer, outputs=output_layer)\n",
    "autoencoder.compile(optimizer='adam', loss='mse')\n",
    "\n"
   ]
  },
  {
   "cell_type": "code",
   "execution_count": null,
   "id": "281accca-efc8-4463-96fb-f43b97ae73c1",
   "metadata": {},
   "outputs": [],
   "source": [
    "# early_stopping = EarlyStopping(\n",
    "#     monitor='val_loss',\n",
    "#     patience=10,\n",
    "#     restore_best_weights=True\n",
    "# )"
   ]
  },
  {
   "cell_type": "code",
   "execution_count": null,
   "id": "045a817c-57cb-4527-816f-f3cfc939f9c7",
   "metadata": {},
   "outputs": [],
   "source": [
    "autoencoder.fit(X_benign_scaled, X_benign_scaled, \n",
    "                epochs=50, \n",
    "                batch_size=32, \n",
    "                validation_split=0.2, \n",
    "                verbose=1)\n",
    "                # callbacks=[early_stopping])"
   ]
  },
  {
   "cell_type": "code",
   "execution_count": null,
   "id": "ed0fc69b-fafc-44cc-a30d-0d7625ad7515",
   "metadata": {},
   "outputs": [],
   "source": [
    "\n",
    "X_scaled = scaler.transform(X)  \n",
    "\n",
    "reconstructed = autoencoder.predict(X_scaled)\n",
    "reconstruction_error = np.mean(np.power(X_scaled - reconstructed, 2), axis=1)\n",
    "\n",
    "threshold = np.percentile(reconstruction_error[y == 0], 99)  \n",
    "y_pred_autoencoder = (reconstruction_error > threshold).astype(int) \n"
   ]
  },
  {
   "cell_type": "code",
   "execution_count": null,
   "id": "4e3e106a-4ed8-4d8f-aa14-7265fa8b4de4",
   "metadata": {},
   "outputs": [],
   "source": [
    "print(\"\\nAutoencoder-Based Anomaly Detection:\")\n",
    "print(classification_report(y, y_pred_autoencoder, target_names=['Benign', 'Malicious']))\n"
   ]
  },
  {
   "cell_type": "code",
   "execution_count": null,
   "id": "e3606d19-f7b5-4213-a754-eedad96612ad",
   "metadata": {},
   "outputs": [],
   "source": []
  },
  {
   "cell_type": "code",
   "execution_count": null,
   "id": "8929b44b-12a2-43b8-8a8d-a47fabfe54fe",
   "metadata": {},
   "outputs": [],
   "source": []
  }
 ],
 "metadata": {
  "kernelspec": {
   "display_name": "Python 3 (ipykernel)",
   "language": "python",
   "name": "python3"
  },
  "language_info": {
   "codemirror_mode": {
    "name": "ipython",
    "version": 3
   },
   "file_extension": ".py",
   "mimetype": "text/x-python",
   "name": "python",
   "nbconvert_exporter": "python",
   "pygments_lexer": "ipython3",
   "version": "3.12.4"
  }
 },
 "nbformat": 4,
 "nbformat_minor": 5
}
